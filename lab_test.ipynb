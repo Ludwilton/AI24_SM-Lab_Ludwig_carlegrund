{
 "cells": [
  {
   "cell_type": "code",
   "execution_count": 1,
   "metadata": {},
   "outputs": [],
   "source": [
    "import pandas as pd\n",
    "\n",
    "from linearregression import LinearRegression\n",
    "\n",
    "df = pd.read_csv(\"./data/Small-diameter-flow.csv\", index_col=0)\n",
    "\n",
    "X = df[[\"Kinematic\", \"Geometric\",\"Inertial\",\"Observer\"]].values\n",
    "Y = df[\"Flow\"].values\n",
    "column_names = [\"Kinematic\", \"Geometric\", \"Inertial\", \"Observer\"]\n",
    "\n",
    "lr=LinearRegression(X,Y,column_names)"
   ]
  },
  {
   "cell_type": "markdown",
   "metadata": {},
   "source": []
  },
  {
   "cell_type": "code",
   "execution_count": 2,
   "metadata": {},
   "outputs": [
    {
     "name": "stdout",
     "output_type": "stream",
     "text": [
      "\n",
      "samples: 198\n",
      "    \n",
      "features: 4 (['Kinematic', 'Geometric', 'Inertial', 'Observer'])\n",
      "\n",
      "intercept: -2.5837690860240095\n",
      "    \n",
      "coefficients: ['Kinematic: 0.87001', 'Geometric: 3.60315', 'Inertial: -0.75189', 'Observer: 0.01688']\n",
      "        \n",
      "variance: 0.00627\n",
      "        \n",
      "standard deviation: 0.07920\n",
      "\n",
      "regression significance: P:2.1976043176926106e-244 \n",
      "        \n",
      "regression relevance / R^2 value: 0.99715\n",
      "        \n",
      "The R^2 value puts the confidence value of the model to 0.997.\n",
      "\n",
      "pearson correlation: [('Kinematic', 'Geometric', 0.8631350761065917), ('Kinematic', 'Inertial', 0.9686707504997814), ('Kinematic', 'Observer', 0.10322658943843979), ('Geometric', 'Inertial', 0.9183300308546999), ('Geometric', 'Observer', 0.17519913369993173), ('Inertial', 'Observer', 0.12198107336291038)]\n",
      "\n",
      "variable significance: P: ['Kinematic: 5.730580151465605e-236', 'Geometric: 0.0', 'Inertial: 1.1628066959544189e-241', 'Observer: 2.342241110726247e-44']\n",
      "        \n",
      "confidence intervals: \n",
      "['Kinematic: 0.87001 ± 0.01156(0.85844, 0.88157)', 'Geometric: 3.60315 ± 0.00789(3.59526, 3.61104)', 'Inertial: -0.75189 ± 0.00934(-0.76122, -0.74255)', 'Observer: 0.01688 ± 0.00276(0.01412, 0.01964)']\n",
      "\n"
     ]
    }
   ],
   "source": [
    "print(lr)"
   ]
  },
  {
   "cell_type": "markdown",
   "metadata": {},
   "source": [
    "### observer bias?\n",
    "\n",
    "\n",
    "eftersom vi får ett p-värde av 2.342241110726247e-44 på observer kan vi anta att det finns ett observer bias"
   ]
  }
 ],
 "metadata": {
  "kernelspec": {
   "display_name": ".venv",
   "language": "python",
   "name": "python3"
  },
  "language_info": {
   "codemirror_mode": {
    "name": "ipython",
    "version": 3
   },
   "file_extension": ".py",
   "mimetype": "text/x-python",
   "name": "python",
   "nbconvert_exporter": "python",
   "pygments_lexer": "ipython3",
   "version": "3.12.6"
  }
 },
 "nbformat": 4,
 "nbformat_minor": 2
}
